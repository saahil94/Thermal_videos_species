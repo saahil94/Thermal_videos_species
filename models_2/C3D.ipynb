{
 "cells": [
  {
   "cell_type": "code",
   "execution_count": 64,
   "metadata": {},
   "outputs": [],
   "source": [
    "from keras.layers import *\n",
    "from keras.callbacks import EarlyStopping, ReduceLROnPlateau, CSVLogger\n",
    "import numpy as np\n",
    "from sklearn.metrics import classification_report, confusion_matrix\n",
    "from keras.layers import Dense, Flatten, Dropout, ZeroPadding3D\n",
    "from keras.layers.recurrent import LSTM\n",
    "from keras.models import Sequential, load_model\n",
    "from keras.optimizers import Adam, RMSprop\n",
    "from keras.layers.wrappers import TimeDistributed\n",
    "from keras.layers.convolutional import (Conv2D, MaxPooling3D, Conv3D,\n",
    "    MaxPooling2D)\n",
    "from collections import deque\n",
    "import sys"
   ]
  },
  {
   "cell_type": "code",
   "execution_count": 2,
   "metadata": {},
   "outputs": [],
   "source": [
    "def load(name):\n",
    "    # Loads the videos and converts the labels into one-hot encoding for Keras\n",
    "    X = np.load(name + \".npy\")\n",
    "    y = np.load(name + \"-labels.npy\")\n",
    "    y_one_hot_encoded = np.zeros([y.shape[0], np.unique(y).size])\n",
    "    y_one_hot_encoded[range(y.shape[0]), y] = 1\n",
    "    return X, y_one_hot_encoded"
   ]
  },
  {
   "cell_type": "code",
   "execution_count": 3,
   "metadata": {},
   "outputs": [
    {
     "name": "stdout",
     "output_type": "stream",
     "text": [
      "Dataset loading.. Dataset loaded!\n"
     ]
    }
   ],
   "source": [
    "epochs = 10\n",
    "batch_size = 32\n",
    "learning_rate = 1e-5\n",
    "\n",
    "# Loads the preprocessed datasets\n",
    "print(\"Dataset loading..\", end = \" \")\n",
    "X_train, y_train = load(\"training\")\n",
    "X_val, y_val = load(\"validation\")\n",
    "X_test, y_test = load(\"test\")\n",
    "print(\"Dataset loaded!\")"
   ]
  },
  {
   "cell_type": "code",
   "execution_count": 4,
   "metadata": {},
   "outputs": [],
   "source": [
    "X_train = X_train.transpose(0,1,3,4,2)\n",
    "X_val = X_val.transpose(0,1,3,4,2)\n",
    "X_test = X_test.transpose(0,1,3,4,2)"
   ]
  },
  {
   "cell_type": "code",
   "execution_count": 60,
   "metadata": {},
   "outputs": [],
   "source": [
    " def c3d():\n",
    "        model = Sequential()\n",
    "        # 1st layer group\n",
    "        model.add(Conv3D(32, (3, 3, 3), activation='relu',\n",
    "                         name='conv1',\n",
    "                         input_shape=(45,24,24,3)))\n",
    "        model.add(MaxPooling3D(pool_size=(2, 2, 2), strides=(1, 2, 2),\n",
    "                         name='pool1'))\n",
    "        # 2nd layer group\n",
    "        model.add(Conv3D(32, (3, 3, 3), activation='relu',\n",
    "                         name='conv2'))\n",
    "        model.add(MaxPooling3D(pool_size=(2, 2, 2), strides=(2, 2, 2),\n",
    "                         name='pool2'))\n",
    "        # 3rd layer group\n",
    "        model.add(Conv3D(64, (3, 3, 3), activation='relu',\n",
    "                         name='conv3a'))\n",
    "        model.add(MaxPooling3D(pool_size=(2, 2, 2), strides=(2, 2, 2),\n",
    "                         name='pool3'))\n",
    "        model.add(Flatten())\n",
    "        \n",
    "        # FC layers group\n",
    "        model.add(Dense(2048, activation='relu', name='fc6'))\n",
    "        model.add(Dropout(0.5))\n",
    "        model.add(Dense(1024, activation='relu', name='fc7'))\n",
    "        model.add(Dropout(0.5))\n",
    "        model.add(Dense(y_train.shape[1], activation='softmax'))\n",
    "\n",
    "        return model"
   ]
  },
  {
   "cell_type": "code",
   "execution_count": 61,
   "metadata": {},
   "outputs": [],
   "source": [
    "model = c3d()"
   ]
  },
  {
   "cell_type": "code",
   "execution_count": 62,
   "metadata": {},
   "outputs": [
    {
     "name": "stdout",
     "output_type": "stream",
     "text": [
      "Model: \"sequential_22\"\n",
      "_________________________________________________________________\n",
      "Layer (type)                 Output Shape              Param #   \n",
      "=================================================================\n",
      "conv1 (Conv3D)               (None, 43, 22, 22, 32)    2624      \n",
      "_________________________________________________________________\n",
      "pool1 (MaxPooling3D)         (None, 42, 11, 11, 32)    0         \n",
      "_________________________________________________________________\n",
      "conv2 (Conv3D)               (None, 40, 9, 9, 32)      27680     \n",
      "_________________________________________________________________\n",
      "pool2 (MaxPooling3D)         (None, 20, 4, 4, 32)      0         \n",
      "_________________________________________________________________\n",
      "conv3a (Conv3D)              (None, 18, 2, 2, 64)      55360     \n",
      "_________________________________________________________________\n",
      "pool3 (MaxPooling3D)         (None, 9, 1, 1, 64)       0         \n",
      "_________________________________________________________________\n",
      "flatten_3 (Flatten)          (None, 576)               0         \n",
      "_________________________________________________________________\n",
      "fc6 (Dense)                  (None, 2048)              1181696   \n",
      "_________________________________________________________________\n",
      "dropout_16 (Dropout)         (None, 2048)              0         \n",
      "_________________________________________________________________\n",
      "fc7 (Dense)                  (None, 1024)              2098176   \n",
      "_________________________________________________________________\n",
      "dropout_17 (Dropout)         (None, 1024)              0         \n",
      "_________________________________________________________________\n",
      "dense_8 (Dense)              (None, 13)                13325     \n",
      "=================================================================\n",
      "Total params: 3,378,861\n",
      "Trainable params: 3,378,861\n",
      "Non-trainable params: 0\n",
      "_________________________________________________________________\n",
      "None\n"
     ]
    }
   ],
   "source": [
    "model.compile(loss='categorical_crossentropy', optimizer = Adam(lr = learning_rate), metrics=[\"accuracy\"])\n",
    "print(model.summary())"
   ]
  },
  {
   "cell_type": "code",
   "execution_count": 65,
   "metadata": {},
   "outputs": [],
   "source": [
    "# settings for reducing the learning rate\n",
    "reduce_lr = ReduceLROnPlateau(monitor = 'val_loss', factor = 0.5, patience = 2, min_lr = 0.0001, verbose = 1)\n",
    "\n",
    "# Training the model on the training set, with early stopping using the validation set\n",
    "callbacks = [EarlyStopping(patience = 7), reduce_lr]"
   ]
  },
  {
   "cell_type": "code",
   "execution_count": 66,
   "metadata": {},
   "outputs": [
    {
     "name": "stdout",
     "output_type": "stream",
     "text": [
      "Epoch 1/10\n",
      "240/240 [==============================] - 3873s 16s/step - loss: 2.2515 - accuracy: 0.2975 - val_loss: 1.9729 - val_accuracy: 0.4353\n",
      "Epoch 2/10\n",
      "240/240 [==============================] - 1203s 5s/step - loss: 1.8385 - accuracy: 0.4438 - val_loss: 1.6365 - val_accuracy: 0.4787\n",
      "Epoch 3/10\n",
      "240/240 [==============================] - 1202s 5s/step - loss: 1.6306 - accuracy: 0.4806 - val_loss: 1.5193 - val_accuracy: 0.5240\n",
      "Epoch 4/10\n",
      "240/240 [==============================] - 1204s 5s/step - loss: 1.5374 - accuracy: 0.5104 - val_loss: 1.4470 - val_accuracy: 0.5400\n",
      "Epoch 5/10\n",
      "240/240 [==============================] - 1188s 5s/step - loss: 1.4761 - accuracy: 0.5270 - val_loss: 1.4009 - val_accuracy: 0.5507\n",
      "Epoch 6/10\n",
      "240/240 [==============================] - 1129s 5s/step - loss: 1.4376 - accuracy: 0.5351 - val_loss: 1.3629 - val_accuracy: 0.5553\n",
      "Epoch 7/10\n",
      "240/240 [==============================] - 1130s 5s/step - loss: 1.4000 - accuracy: 0.5455 - val_loss: 1.3388 - val_accuracy: 0.5587\n",
      "Epoch 8/10\n",
      "240/240 [==============================] - 1134s 5s/step - loss: 1.3758 - accuracy: 0.5488 - val_loss: 1.3248 - val_accuracy: 0.5640\n",
      "Epoch 9/10\n",
      "240/240 [==============================] - 1133s 5s/step - loss: 1.3528 - accuracy: 0.5570 - val_loss: 1.3084 - val_accuracy: 0.5680\n",
      "Epoch 10/10\n",
      "240/240 [==============================] - 1148s 5s/step - loss: 1.3337 - accuracy: 0.5602 - val_loss: 1.2893 - val_accuracy: 0.5747\n"
     ]
    },
    {
     "data": {
      "text/plain": [
       "<tensorflow.python.keras.callbacks.History at 0x234054cbd88>"
      ]
     },
     "execution_count": 66,
     "metadata": {},
     "output_type": "execute_result"
    }
   ],
   "source": [
    "model.fit(X_train, y_train, epochs = epochs, batch_size = batch_size, shuffle = True, validation_data = (X_val, y_val), callbacks = callbacks)"
   ]
  }
 ],
 "metadata": {
  "kernelspec": {
   "display_name": "Python 3",
   "language": "python",
   "name": "python3"
  },
  "language_info": {
   "codemirror_mode": {
    "name": "ipython",
    "version": 3
   },
   "file_extension": ".py",
   "mimetype": "text/x-python",
   "name": "python",
   "nbconvert_exporter": "python",
   "pygments_lexer": "ipython3",
   "version": "3.7.7"
  }
 },
 "nbformat": 4,
 "nbformat_minor": 4
}
