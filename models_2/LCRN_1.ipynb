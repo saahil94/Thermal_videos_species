{
 "cells": [
  {
   "cell_type": "code",
   "execution_count": 37,
   "metadata": {},
   "outputs": [],
   "source": [
    "from keras.layers import *\n",
    "from keras.callbacks import EarlyStopping, ReduceLROnPlateau, CSVLogger\n",
    "import numpy as np\n",
    "from sklearn.metrics import classification_report, confusion_matrix\n",
    "from keras.layers import Dense, Flatten, Dropout, ZeroPadding3D\n",
    "from keras.layers.recurrent import LSTM\n",
    "from keras.models import Sequential, load_model\n",
    "from keras.optimizers import Adam, RMSprop\n",
    "from keras.layers.wrappers import TimeDistributed\n",
    "from keras.layers.convolutional import (Conv2D, MaxPooling3D, Conv3D,\n",
    "    MaxPooling2D)\n",
    "from collections import deque\n",
    "import sys"
   ]
  },
  {
   "cell_type": "code",
   "execution_count": 2,
   "metadata": {},
   "outputs": [],
   "source": [
    "def load(name):\n",
    "    # Loads the videos and converts the labels into one-hot encoding for Keras\n",
    "    X = np.load(name + \".npy\")\n",
    "    y = np.load(name + \"-labels.npy\")\n",
    "    y_one_hot_encoded = np.zeros([y.shape[0], np.unique(y).size])\n",
    "    y_one_hot_encoded[range(y.shape[0]), y] = 1\n",
    "    return X, y_one_hot_encoded"
   ]
  },
  {
   "cell_type": "code",
   "execution_count": 50,
   "metadata": {},
   "outputs": [
    {
     "name": "stdout",
     "output_type": "stream",
     "text": [
      "Dataset loading.. Dataset loaded!\n"
     ]
    }
   ],
   "source": [
    "epochs = 10\n",
    "batch_size = 64\n",
    "learning_rate = 1e-5\n",
    "\n",
    "# Loads the preprocessed datasets\n",
    "print(\"Dataset loading..\", end = \" \")\n",
    "X_train, y_train = load(\"training\")\n",
    "X_val, y_val = load(\"validation\")\n",
    "X_test, y_test = load(\"test\")\n",
    "print(\"Dataset loaded!\")"
   ]
  },
  {
   "cell_type": "code",
   "execution_count": 51,
   "metadata": {},
   "outputs": [],
   "source": [
    "X_train = X_train.transpose(0,1,3,4,2)\n",
    "X_val = X_val.transpose(0,1,3,4,2)\n",
    "X_test = X_test.transpose(0,1,3,4,2)"
   ]
  },
  {
   "cell_type": "code",
   "execution_count": 54,
   "metadata": {},
   "outputs": [],
   "source": [
    "def lrcn():\n",
    "        \"\"\"Build a CNN into RNN.\n",
    "        Starting version from:\n",
    "            https://github.com/udacity/self-driving-car/blob/master/\n",
    "                steering-models/community-models/chauffeur/models.py\n",
    "        Heavily influenced by VGG-16:\n",
    "            https://arxiv.org/abs/1409.1556\n",
    "        Also known as an LRCN:\n",
    "            https://arxiv.org/pdf/1411.4389.pdf\n",
    "        \"\"\"\n",
    "        def add_default_block(model, kernel_filters, init, reg_lambda):\n",
    "\n",
    "            # conv\n",
    "            model.add(TimeDistributed(Conv2D(kernel_filters, (3, 3), padding='same',\n",
    "                                             kernel_initializer=init)))\n",
    "            model.add(TimeDistributed(BatchNormalization()))\n",
    "            model.add(TimeDistributed(Activation('relu')))\n",
    "            # conv\n",
    "            model.add(TimeDistributed(Conv2D(kernel_filters, (3, 3), padding='same',\n",
    "                                             kernel_initializer=init)))\n",
    "            model.add(TimeDistributed(BatchNormalization()))\n",
    "            model.add(TimeDistributed(Activation('relu')))\n",
    "            # max pool\n",
    "            model.add(TimeDistributed(MaxPooling2D((2, 2), strides=(2, 2))))\n",
    "\n",
    "            return model\n",
    "\n",
    "        initialiser = 'glorot_uniform'\n",
    "        reg_lambda  = 0.001\n",
    "\n",
    "        model = Sequential()\n",
    "\n",
    "        # first (non-default) block\n",
    "        model.add(TimeDistributed(Conv2D(32, (3, 3), strides=(2, 2), padding='same',\n",
    "                                         kernel_initializer=initialiser),\n",
    "                                  input_shape=(45, 24, 24, 3)))\n",
    "        model.add(TimeDistributed(BatchNormalization()))\n",
    "        model.add(TimeDistributed(Activation('relu')))\n",
    "        model.add(TimeDistributed(Conv2D(64, (3,3), kernel_initializer=initialiser)))\n",
    "        model.add(TimeDistributed(BatchNormalization()))\n",
    "        model.add(TimeDistributed(Activation('relu')))\n",
    "        model.add(TimeDistributed(MaxPooling2D((2, 2), strides=(2, 2))))\n",
    "\n",
    "        # 2nd-5th (default) blocks\n",
    "        model = add_default_block(model, 64,  init=initialiser, reg_lambda=reg_lambda)\n",
    "        model = add_default_block(model, 128, init=initialiser, reg_lambda=reg_lambda)\n",
    "        #model = add_default_block(model, 256, init=initialiser, reg_lambda=reg_lambda)\n",
    "        #model = add_default_block(model, 512, init=initialiser, reg_lambda=reg_lambda)\n",
    "\n",
    "        # LSTM output head\n",
    "        model.add(TimeDistributed(Flatten()))\n",
    "        model.add(LSTM(256, return_sequences=False, dropout=0.2))\n",
    "        model.add(Dense(128,activation = 'relu'))\n",
    "        model.add(Dense(y_train.shape[1], activation='softmax'))\n",
    "\n",
    "        return model\n"
   ]
  },
  {
   "cell_type": "code",
   "execution_count": 55,
   "metadata": {},
   "outputs": [],
   "source": [
    "model = lrcn()"
   ]
  },
  {
   "cell_type": "code",
   "execution_count": 35,
   "metadata": {},
   "outputs": [
    {
     "name": "stdout",
     "output_type": "stream",
     "text": [
      "Model: \"sequential_8\"\n",
      "_________________________________________________________________\n",
      "Layer (type)                 Output Shape              Param #   \n",
      "=================================================================\n",
      "time_distributed_124 (TimeDi (None, 45, 12, 12, 32)    896       \n",
      "_________________________________________________________________\n",
      "time_distributed_125 (TimeDi (None, 45, 12, 12, 32)    128       \n",
      "_________________________________________________________________\n",
      "time_distributed_126 (TimeDi (None, 45, 12, 12, 32)    0         \n",
      "_________________________________________________________________\n",
      "time_distributed_127 (TimeDi (None, 45, 10, 10, 32)    9248      \n",
      "_________________________________________________________________\n",
      "time_distributed_128 (TimeDi (None, 45, 10, 10, 32)    128       \n",
      "_________________________________________________________________\n",
      "time_distributed_129 (TimeDi (None, 45, 10, 10, 32)    0         \n",
      "_________________________________________________________________\n",
      "time_distributed_130 (TimeDi (None, 45, 5, 5, 32)      0         \n",
      "_________________________________________________________________\n",
      "time_distributed_131 (TimeDi (None, 45, 5, 5, 64)      18496     \n",
      "_________________________________________________________________\n",
      "time_distributed_132 (TimeDi (None, 45, 5, 5, 64)      256       \n",
      "_________________________________________________________________\n",
      "time_distributed_133 (TimeDi (None, 45, 5, 5, 64)      0         \n",
      "_________________________________________________________________\n",
      "time_distributed_134 (TimeDi (None, 45, 5, 5, 64)      36928     \n",
      "_________________________________________________________________\n",
      "time_distributed_135 (TimeDi (None, 45, 5, 5, 64)      256       \n",
      "_________________________________________________________________\n",
      "time_distributed_136 (TimeDi (None, 45, 5, 5, 64)      0         \n",
      "_________________________________________________________________\n",
      "time_distributed_137 (TimeDi (None, 45, 2, 2, 64)      0         \n",
      "_________________________________________________________________\n",
      "time_distributed_138 (TimeDi (None, 45, 2, 2, 64)      36928     \n",
      "_________________________________________________________________\n",
      "time_distributed_139 (TimeDi (None, 45, 2, 2, 64)      256       \n",
      "_________________________________________________________________\n",
      "time_distributed_140 (TimeDi (None, 45, 2, 2, 64)      0         \n",
      "_________________________________________________________________\n",
      "time_distributed_141 (TimeDi (None, 45, 2, 2, 64)      36928     \n",
      "_________________________________________________________________\n",
      "time_distributed_142 (TimeDi (None, 45, 2, 2, 64)      256       \n",
      "_________________________________________________________________\n",
      "time_distributed_143 (TimeDi (None, 45, 2, 2, 64)      0         \n",
      "_________________________________________________________________\n",
      "time_distributed_144 (TimeDi (None, 45, 1, 1, 64)      0         \n",
      "_________________________________________________________________\n",
      "time_distributed_145 (TimeDi (None, 45, 64)            0         \n",
      "_________________________________________________________________\n",
      "lstm_4 (LSTM)                (None, 256)               328704    \n",
      "_________________________________________________________________\n",
      "dense_4 (Dense)              (None, 13)                3341      \n",
      "=================================================================\n",
      "Total params: 472,749\n",
      "Trainable params: 472,109\n",
      "Non-trainable params: 640\n",
      "_________________________________________________________________\n",
      "None\n"
     ]
    }
   ],
   "source": [
    "model.compile(loss='categorical_crossentropy', optimizer = Adam(lr = learning_rate), metrics=[\"accuracy\"])\n",
    "print(model.summary())"
   ]
  },
  {
   "cell_type": "code",
   "execution_count": 40,
   "metadata": {},
   "outputs": [],
   "source": [
    "# settings for reducing the learning rate\n",
    "reduce_lr = ReduceLROnPlateau(monitor = 'val_loss', factor = 0.5, patience = 2, min_lr = 0.0001, verbose = 1)\n",
    "\n",
    "# Training the model on the training set, with early stopping using the validation set\n",
    "callbacks = [EarlyStopping(patience = 7), reduce_lr]"
   ]
  },
  {
   "cell_type": "code",
   "execution_count": 41,
   "metadata": {},
   "outputs": [
    {
     "name": "stdout",
     "output_type": "stream",
     "text": [
      "Epoch 1/10\n",
      "120/120 [==============================] - 1235s 10s/step - loss: 2.3313 - accuracy: 0.2835 - val_loss: 2.3668 - val_accuracy: 0.2833\n",
      "Epoch 2/10\n",
      "120/120 [==============================] - 330s 3s/step - loss: 1.9280 - accuracy: 0.4340 - val_loss: 2.1516 - val_accuracy: 0.2933\n",
      "Epoch 3/10\n",
      "120/120 [==============================] - 313s 3s/step - loss: 1.6739 - accuracy: 0.4725 - val_loss: 1.9362 - val_accuracy: 0.4080\n",
      "Epoch 4/10\n",
      "120/120 [==============================] - 312s 3s/step - loss: 1.5225 - accuracy: 0.5141 - val_loss: 1.6401 - val_accuracy: 0.4980\n",
      "Epoch 5/10\n",
      "120/120 [==============================] - 340s 3s/step - loss: 1.4077 - accuracy: 0.5493 - val_loss: 1.4177 - val_accuracy: 0.5533\n",
      "Epoch 6/10\n",
      "120/120 [==============================] - 319s 3s/step - loss: 1.3179 - accuracy: 0.5733 - val_loss: 1.2944 - val_accuracy: 0.5813\n",
      "Epoch 7/10\n",
      "120/120 [==============================] - 310s 3s/step - loss: 1.2481 - accuracy: 0.6032 - val_loss: 1.2250 - val_accuracy: 0.6007\n",
      "Epoch 8/10\n",
      "120/120 [==============================] - 269s 2s/step - loss: 1.1819 - accuracy: 0.6225 - val_loss: 1.1724 - val_accuracy: 0.6187\n",
      "Epoch 9/10\n",
      "120/120 [==============================] - 135s 1s/step - loss: 1.1317 - accuracy: 0.6394 - val_loss: 1.1306 - val_accuracy: 0.6280\n",
      "Epoch 10/10\n",
      "120/120 [==============================] - 145s 1s/step - loss: 1.0751 - accuracy: 0.6592 - val_loss: 1.0866 - val_accuracy: 0.6527\n"
     ]
    },
    {
     "data": {
      "text/plain": [
       "<tensorflow.python.keras.callbacks.History at 0x1fe9a4bc8c8>"
      ]
     },
     "execution_count": 41,
     "metadata": {},
     "output_type": "execute_result"
    }
   ],
   "source": [
    "model.fit(X_train, y_train, epochs = epochs, batch_size = batch_size, shuffle = True, validation_data = (X_val, y_val), callbacks = callbacks)"
   ]
  },
  {
   "cell_type": "code",
   "execution_count": 52,
   "metadata": {},
   "outputs": [
    {
     "name": "stdout",
     "output_type": "stream",
     "text": [
      "              precision    recall  f1-score   support\n",
      "\n",
      "           0       0.52      0.40      0.45       123\n",
      "           1       0.48      0.31      0.37        85\n",
      "           2       0.00      0.00      0.00        10\n",
      "           3       0.84      0.98      0.90       260\n",
      "           4       0.65      0.54      0.59       147\n",
      "           5       1.00      0.10      0.18        10\n",
      "           6       0.00      0.00      0.00        30\n",
      "           7       0.52      0.36      0.42        84\n",
      "           8       0.53      0.17      0.26        52\n",
      "           9       0.48      0.60      0.53       156\n",
      "          10       0.68      0.87      0.76       424\n",
      "          11       0.00      0.00      0.00         9\n",
      "          12       0.59      0.57      0.58       110\n",
      "\n",
      "    accuracy                           0.65      1500\n",
      "   macro avg       0.48      0.38      0.39      1500\n",
      "weighted avg       0.62      0.65      0.62      1500\n",
      "\n",
      "[[ 49   5   0   1   0   0   0   1   0  14  48   0   5]\n",
      " [  2  26   0   1   8   0   0   1   2  24  11   0  10]\n",
      " [  0   5   0   0   0   0   0   0   1   1   1   0   2]\n",
      " [  0   1   0 255   0   0   0   0   0   4   0   0   0]\n",
      " [  1   0   0   1  80   0   0   2   0  25  36   0   2]\n",
      " [  0   5   0   0   1   1   0   0   1   0   1   0   1]\n",
      " [  0   0   0  18   1   0   0   0   0   8   3   0   0]\n",
      " [  8   2   0   7   4   0   0  30   1   6  20   0   6]\n",
      " [  1   2   0   1   1   0   0   1   9   0  37   0   0]\n",
      " [ 14   2   0   8  10   0   0   4   2  94  10   0  12]\n",
      " [ 11   2   0   2  17   0   0   8   1   8 369   0   6]\n",
      " [  0   2   0   3   0   0   0   1   0   2   1   0   0]\n",
      " [  9   2   0   7   2   0   0  10   0  11   6   0  63]]\n"
     ]
    },
    {
     "name": "stderr",
     "output_type": "stream",
     "text": [
      "C:\\Users\\Saahil\\Anaconda3\\lib\\site-packages\\sklearn\\metrics\\_classification.py:1221: UndefinedMetricWarning: Precision and F-score are ill-defined and being set to 0.0 in labels with no predicted samples. Use `zero_division` parameter to control this behavior.\n",
      "  _warn_prf(average, modifier, msg_start, len(result))\n"
     ]
    }
   ],
   "source": [
    "y_pred = np.argmax(model.predict(X_test), axis = 1)\n",
    "y_test = np.argmax(y_test,axis = 1)\n",
    "print(classification_report(y_test, y_pred))\n",
    "print(confusion_matrix(y_test, y_pred))"
   ]
  },
  {
   "cell_type": "code",
   "execution_count": null,
   "metadata": {},
   "outputs": [],
   "source": []
  },
  {
   "cell_type": "code",
   "execution_count": 53,
   "metadata": {},
   "outputs": [
    {
     "data": {
      "text/plain": [
       "<matplotlib.axes._subplots.AxesSubplot at 0x1fe9dd243c8>"
      ]
     },
     "execution_count": 53,
     "metadata": {},
     "output_type": "execute_result"
    },
    {
     "data": {
      "image/png": "[encoded data removed]",
      "text/plain": [
       "<Figure size 720x720 with 2 Axes>"
      ]
     },
     "metadata": {
      "needs_background": "light"
     },
     "output_type": "display_data"
    }
   ],
   "source": [
    "import seaborn as sns\n",
    "import matplotlib.pyplot as plt\n",
    "cm = confusion_matrix(y_test, y_pred)\n",
    "cm = cm/np.sum(cm,axis=1)[:,np.newaxis]\n",
    "fig, ax = plt.subplots(figsize=(10,10))\n",
    "sns.heatmap(cm, annot=True, fmt='.2f')"
   ]
  }
 ],
 "metadata": {
  "kernelspec": {
   "display_name": "Python 3",
   "language": "python",
   "name": "python3"
  },
  "language_info": {
   "codemirror_mode": {
    "name": "ipython",
    "version": 3
   },
   "file_extension": ".py",
   "mimetype": "text/x-python",
   "name": "python",
   "nbconvert_exporter": "python",
   "pygments_lexer": "ipython3",
   "version": "3.7.7"
  }
 },
 "nbformat": 4,
 "nbformat_minor": 4
}
